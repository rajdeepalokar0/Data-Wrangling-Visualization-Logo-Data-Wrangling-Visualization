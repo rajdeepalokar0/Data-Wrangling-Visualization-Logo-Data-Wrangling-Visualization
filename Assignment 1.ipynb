{
 "cells": [
  {
   "cell_type": "code",
   "execution_count": 1,
   "id": "af060497",
   "metadata": {},
   "outputs": [
    {
     "name": "stdout",
     "output_type": "stream",
     "text": [
      "Requirement already satisfied: numpy in c:\\users\\user\\anaconda3\\lib\\site-packages (1.23.5)\n",
      "Note: you may need to restart the kernel to use updated packages.\n"
     ]
    }
   ],
   "source": [
    "pip install numpy"
   ]
  },
  {
   "cell_type": "markdown",
   "id": "9ceda1a7",
   "metadata": {},
   "source": [
    "1. Create a null vector of size 10 but the fifth value which is 1."
   ]
  },
  {
   "cell_type": "code",
   "execution_count": 2,
   "id": "345b881d",
   "metadata": {},
   "outputs": [
    {
     "name": "stdout",
     "output_type": "stream",
     "text": [
      "[0. 0. 0. 0. 1. 0. 0. 0. 0. 0.]\n"
     ]
    }
   ],
   "source": [
    "import numpy as np\n",
    "\n",
    "null_vector = np.zeros(10)\n",
    "null_vector[4] = 1\n",
    "\n",
    "print(null_vector)"
   ]
  },
  {
   "cell_type": "markdown",
   "id": "7c45d962",
   "metadata": {},
   "source": [
    "2. Create a vector with values ranging from 10 to 49."
   ]
  },
  {
   "cell_type": "code",
   "execution_count": 3,
   "id": "8e244c3a",
   "metadata": {},
   "outputs": [
    {
     "name": "stdout",
     "output_type": "stream",
     "text": [
      "[10 11 12 13 14 15 16 17 18 19 20 21 22 23 24 25 26 27 28 29 30 31 32 33\n",
      " 34 35 36 37 38 39 40 41 42 43 44 45 46 47 48 49]\n"
     ]
    }
   ],
   "source": [
    "import numpy as np\n",
    "\n",
    "vector_10_to_49 = np.arange(10, 50)\n",
    "\n",
    "print(vector_10_to_49)"
   ]
  },
  {
   "cell_type": "markdown",
   "id": "21a7c6c6",
   "metadata": {},
   "source": [
    "3. Create a 3x3 matrix with values ranging from 0 to 8"
   ]
  },
  {
   "cell_type": "code",
   "execution_count": 4,
   "id": "28621bef",
   "metadata": {},
   "outputs": [
    {
     "name": "stdout",
     "output_type": "stream",
     "text": [
      "[[0 1 2]\n",
      " [3 4 5]\n",
      " [6 7 8]]\n"
     ]
    }
   ],
   "source": [
    "import numpy as np\n",
    "\n",
    "matrix_3x3 = np.arange(9).reshape(3, 3)\n",
    "\n",
    "print(matrix_3x3)\n"
   ]
  },
  {
   "cell_type": "markdown",
   "id": "1a94bc1a",
   "metadata": {},
   "source": [
    "4. Find indices of non-zero elements from [1,2,0,0,4,0]"
   ]
  },
  {
   "cell_type": "code",
   "execution_count": 5,
   "id": "5dfc81ff",
   "metadata": {},
   "outputs": [
    {
     "name": "stdout",
     "output_type": "stream",
     "text": [
      "(array([0, 1, 4], dtype=int64),)\n"
     ]
    }
   ],
   "source": [
    "import numpy as np\n",
    "\n",
    "arr = np.array([1, 2, 0, 0, 4, 0])\n",
    "non_zero_indices = np.nonzero(arr)\n",
    "\n",
    "print(non_zero_indices)\n"
   ]
  },
  {
   "cell_type": "markdown",
   "id": "965d5953",
   "metadata": {},
   "source": [
    "5. Create a 10x10 array with random values and find the minimum and maximum values."
   ]
  },
  {
   "cell_type": "code",
   "execution_count": 6,
   "id": "df1d41c0",
   "metadata": {},
   "outputs": [
    {
     "name": "stdout",
     "output_type": "stream",
     "text": [
      "Random 10x10 array:\n",
      "[[0.13389918 0.98492403 0.60032656 0.59438968 0.57660455 0.92929685\n",
      "  0.76395408 0.94218787 0.8403246  0.14146128]\n",
      " [0.92755849 0.29151112 0.58227616 0.39404477 0.06198417 0.77287074\n",
      "  0.17077737 0.4430006  0.16008166 0.07344294]\n",
      " [0.85973172 0.72130727 0.43867218 0.18033214 0.53748709 0.44991746\n",
      "  0.4856483  0.80241929 0.59967381 0.54225575]\n",
      " [0.29148366 0.51106563 0.05388389 0.84133423 0.39544408 0.87939203\n",
      "  0.3873653  0.11772889 0.00489099 0.02091264]\n",
      " [0.39687994 0.15620352 0.60829549 0.76691521 0.45505074 0.72558106\n",
      "  0.98865404 0.19461533 0.63873849 0.76145516]\n",
      " [0.03993117 0.83091853 0.44345943 0.6494414  0.93192499 0.78873714\n",
      "  0.58144876 0.93827745 0.91278164 0.89888914]\n",
      " [0.06594087 0.98511437 0.54905704 0.57482303 0.11110652 0.50701105\n",
      "  0.60925315 0.4293773  0.63581685 0.75334477]\n",
      " [0.34719806 0.25289711 0.90627761 0.41804479 0.23186333 0.37403273\n",
      "  0.57075883 0.76618191 0.78314227 0.16878236]\n",
      " [0.29247743 0.38665393 0.41629866 0.57493529 0.30823948 0.07440721\n",
      "  0.56928802 0.04231977 0.00729327 0.3557609 ]\n",
      " [0.76015911 0.67381314 0.23954371 0.84433533 0.15514255 0.7954427\n",
      "  0.51978145 0.3701572  0.30470124 0.58822662]]\n",
      "\n",
      "Minimum value: 0.004890993168180202\n",
      "Maximum value: 0.9886540372372923\n"
     ]
    }
   ],
   "source": [
    "import numpy as np\n",
    "\n",
    "# Create a 10x10 array with random values\n",
    "random_array = np.random.rand(10, 10)\n",
    "\n",
    "# Find the minimum and maximum values\n",
    "min_value = random_array.min()\n",
    "max_value = random_array.max()\n",
    "\n",
    "print(\"Random 10x10 array:\")\n",
    "print(random_array)\n",
    "print(\"\\nMinimum value:\", min_value)\n",
    "print(\"Maximum value:\", max_value)\n"
   ]
  },
  {
   "cell_type": "markdown",
   "id": "6cf4d827",
   "metadata": {},
   "source": [
    "6. Create a random vector of size 30 and find the mean value."
   ]
  },
  {
   "cell_type": "code",
   "execution_count": 10,
   "id": "149d12f0",
   "metadata": {},
   "outputs": [
    {
     "name": "stdout",
     "output_type": "stream",
     "text": [
      "Random Vector:\n",
      "[0.94705619 0.97979288 0.01910833 0.63877577 0.07484906 0.68510216\n",
      " 0.76764387 0.81991419 0.86029284 0.57523564 0.93885963 0.61345148\n",
      " 0.77706403 0.36372519 0.15751134 0.47515982 0.00725034 0.58896283\n",
      " 0.0830494  0.43419815 0.27221225 0.35163638 0.89842391 0.42512384\n",
      " 0.67086257 0.13051154 0.68269372 0.71800992 0.05689382 0.0035587 ]\n",
      "\n",
      "Mean Value: 0.5005643258389022\n"
     ]
    }
   ],
   "source": [
    "import numpy as np\n",
    "\n",
    "# Create a random vector of size 30\n",
    "random_vector = np.random.rand(30)\n",
    "\n",
    "# Find the mean value\n",
    "mean_value = random_vector.mean()\n",
    "\n",
    "print(\"Random Vector:\")\n",
    "print(random_vector)\n",
    "print(\"\\nMean Value:\", mean_value)\n"
   ]
  }
 ],
 "metadata": {
  "kernelspec": {
   "display_name": "Python 3 (ipykernel)",
   "language": "python",
   "name": "python3"
  },
  "language_info": {
   "codemirror_mode": {
    "name": "ipython",
    "version": 3
   },
   "file_extension": ".py",
   "mimetype": "text/x-python",
   "name": "python",
   "nbconvert_exporter": "python",
   "pygments_lexer": "ipython3",
   "version": "3.10.9"
  }
 },
 "nbformat": 4,
 "nbformat_minor": 5
}
